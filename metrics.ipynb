{
 "cells": [
  {
   "cell_type": "code",
   "execution_count": 1,
   "metadata": {},
   "outputs": [
    {
     "name": "stderr",
     "output_type": "stream",
     "text": [
      "/opt/homebrew/lib/python3.10/site-packages/tqdm/auto.py:22: TqdmWarning: IProgress not found. Please update jupyter and ipywidgets. See https://ipywidgets.readthedocs.io/en/stable/user_install.html\n",
      "  from .autonotebook import tqdm as notebook_tqdm\n"
     ]
    }
   ],
   "source": [
    "from yolov3 import YoloV3Net\n",
    "import torch\n",
    "import pandas"
   ]
  },
  {
   "cell_type": "code",
   "execution_count": 2,
   "metadata": {},
   "outputs": [
    {
     "name": "stdout",
     "output_type": "stream",
     "text": [
      "Loading network.....\n",
      "Network successfully loaded\n"
     ]
    }
   ],
   "source": [
    "print('Loading network.....')\n",
    "model = YoloV3Net('cfg/yolov3.cfg')\n",
    "model.load_weights('weights/yolov3.weights')\n",
    "model.net_info['height'] = '416'\n",
    "model.eval()\n",
    "CUDA = torch.cuda.is_available()\n",
    "print('Network successfully loaded')"
   ]
  },
  {
   "cell_type": "code",
   "execution_count": 3,
   "metadata": {},
   "outputs": [],
   "source": [
    "from util import load_classes\n",
    "classes = load_classes('data/coco.names')"
   ]
  },
  {
   "cell_type": "code",
   "execution_count": 4,
   "metadata": {},
   "outputs": [],
   "source": [
    "import pandas as pd\n",
    "from PIL import ImageDraw, Image\n",
    "import os\n",
    "from util import load_classes\n",
    "from metrics import get_annotation_bbox, draw_bbox\n",
    "\n",
    "\n",
    "classes = load_classes('data/coco.names')\n",
    "bbox_dict = dict()\n",
    "dir = os.path.join('coco128', 'images', 'train2017')\n",
    "for i,image_file in enumerate(os.listdir(dir)):\n",
    "    image = Image.open(os.path.join(dir, image_file))\n",
    "    bboxes = get_annotation_bbox(image_file[:-4], image.size, classes)\n",
    "    if bboxes is not None:\n",
    "        bbox_dict[image_file] = bboxes\n",
    "        for bbox in bboxes:\n",
    "            draw_bbox(image, bbox)"
   ]
  },
  {
   "cell_type": "code",
   "execution_count": 5,
   "metadata": {},
   "outputs": [],
   "source": [
    "from metrics import generate_predictions\n",
    "\n",
    "preds, target = generate_predictions(model, dir, classes, CUDA=CUDA)"
   ]
  },
  {
   "cell_type": "code",
   "execution_count": 6,
   "metadata": {},
   "outputs": [
    {
     "data": {
      "text/plain": [
       "tensor(0.5391)"
      ]
     },
     "execution_count": 6,
     "metadata": {},
     "output_type": "execute_result"
    }
   ],
   "source": [
    "from metrics import mean_average_precision\n",
    "\n",
    "mean_average_precision(\n",
    "    pred_boxes=preds,\n",
    "    true_boxes=target,\n",
    "    iou_thresh=0.5,\n",
    "    box_format='corners',\n",
    "    num_classes=len(classes)\n",
    ")"
   ]
  },
  {
   "cell_type": "code",
   "execution_count": null,
   "metadata": {},
   "outputs": [],
   "source": []
  }
 ],
 "metadata": {
  "kernelspec": {
   "display_name": "Python 3",
   "language": "python",
   "name": "python3"
  },
  "language_info": {
   "codemirror_mode": {
    "name": "ipython",
    "version": 3
   },
   "file_extension": ".py",
   "mimetype": "text/x-python",
   "name": "python",
   "nbconvert_exporter": "python",
   "pygments_lexer": "ipython3",
   "version": "3.10.6"
  },
  "orig_nbformat": 4,
  "vscode": {
   "interpreter": {
    "hash": "b0fa6594d8f4cbf19f97940f81e996739fb7646882a419484c72d19e05852a7e"
   }
  }
 },
 "nbformat": 4,
 "nbformat_minor": 2
}
